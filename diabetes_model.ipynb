{
 "cells": [
  {
   "cell_type": "code",
   "execution_count": 7,
   "id": "e88e7fe4",
   "metadata": {},
   "outputs": [
    {
     "name": "stdout",
     "output_type": "stream",
     "text": [
      "Mean of scaled features: [-6.47630098e-17  4.62592927e-18  5.78241159e-18 -1.27213055e-16\n",
      "  2.60208521e-17  4.67218856e-16  2.45174251e-16  1.93132547e-16]\n",
      "Standard deviation of scaled features: [1. 1. 1. 1. 1. 1. 1. 1.]\n",
      "First 5 rows of scaled data:\n",
      "   Pregnancies   Glucose  BloodPressure  SkinThickness   Insulin       BMI  \\\n",
      "0     0.639947  0.866045      -0.031990       0.831114 -0.608201  0.167240   \n",
      "1    -0.844885 -1.205066      -0.528319       0.180566 -0.608201 -0.851551   \n",
      "2     1.233880  2.016662      -0.693761      -0.469981 -0.608201 -1.331838   \n",
      "3    -0.844885 -1.073567      -0.528319      -0.469981 -0.006185 -0.633239   \n",
      "4    -1.141852  0.504422      -2.679076       0.831114  0.695378  1.549885   \n",
      "\n",
      "   DiabetesPedigreeFunction       Age  \n",
      "0                  0.468492  1.425995  \n",
      "1                 -0.365061 -0.190672  \n",
      "2                  0.604397 -0.105584  \n",
      "3                 -0.920763 -1.041549  \n",
      "4                  5.484909 -0.020496  \n"
     ]
    }
   ],
   "source": [
    "import pandas as pd\n",
    "from sklearn.preprocessing import StandardScaler\n",
    "\n",
    "# Load dataset\n",
    "df = pd.read_csv('diabetes.csv')\n",
    "\n",
    "# Replace zero values with median for relevant columns\n",
    "for col in ['Glucose', 'BloodPressure', 'SkinThickness', 'Insulin', 'BMI']:\n",
    "    df[col] = df[col].replace(0, df[col].median())\n",
    "\n",
    "# Features and target\n",
    "X = df.drop('Outcome', axis=1)\n",
    "y = df['Outcome']\n",
    "\n",
    "# Normalize features\n",
    "scaler = StandardScaler()\n",
    "X_scaled = scaler.fit_transform(X)\n",
    "\n",
    "# Save preprocessed data\n",
    "pd.DataFrame(X_scaled, columns=X.columns).to_csv('cleaned_diabetes.csv', index=False)\n",
    "\n",
    "# Verify scaling\n",
    "print(\"Mean of scaled features:\", X_scaled.mean(axis=0))\n",
    "print(\"Standard deviation of scaled features:\", X_scaled.std(axis=0))\n",
    "print(\"First 5 rows of scaled data:\")\n",
    "print(pd.DataFrame(X_scaled, columns=X.columns).head())"
   ]
  },
  {
   "cell_type": "code",
   "execution_count": 8,
   "id": "f8a98f03",
   "metadata": {},
   "outputs": [
    {
     "name": "stdout",
     "output_type": "stream",
     "text": [
      "Model accuracy: 0.77\n"
     ]
    },
    {
     "data": {
      "text/plain": [
       "['scaler.pkl']"
      ]
     },
     "execution_count": 8,
     "metadata": {},
     "output_type": "execute_result"
    }
   ],
   "source": [
    "from sklearn.model_selection import train_test_split\n",
    "from sklearn.linear_model import LogisticRegression\n",
    "import joblib\n",
    "\n",
    "# Split data\n",
    "X_train, X_test, y_train, y_test = train_test_split(X_scaled, y, test_size=0.2, random_state=42)\n",
    "\n",
    "# Train model\n",
    "model = LogisticRegression()\n",
    "model.fit(X_train, y_train)\n",
    "\n",
    "# Evaluate\n",
    "accuracy = model.score(X_test, y_test)\n",
    "print(f\"Model accuracy: {accuracy:.2f}\")\n",
    "\n",
    "# Save model\n",
    "joblib.dump(model, 'diabetes_model.pkl')\n",
    "joblib.dump(scaler, 'scaler.pkl')"
   ]
  },
  {
   "cell_type": "code",
   "execution_count": 10,
   "id": "38752144",
   "metadata": {},
   "outputs": [
    {
     "name": "stdout",
     "output_type": "stream",
     "text": [
      "Model accuracy: 0.77\n",
      "Model and scaler saved successfully.\n"
     ]
    }
   ],
   "source": [
    "from sklearn.model_selection import train_test_split\n",
    "from sklearn.linear_model import LogisticRegression\n",
    "import joblib\n",
    "\n",
    "# Split data\n",
    "X_train, X_test, y_train, y_test = train_test_split(X_scaled, y, test_size=0.2, random_state=42)\n",
    "\n",
    "# Train model\n",
    "model = LogisticRegression()\n",
    "model.fit(X_train, y_train)\n",
    "\n",
    "# Evaluate\n",
    "accuracy = model.score(X_test, y_test)\n",
    "print(f\"Model accuracy: {accuracy:.2f}\")\n",
    "\n",
    "# Save model\n",
    "joblib.dump(model, 'diabetes_model.pkl')\n",
    "joblib.dump(scaler, 'scaler.pkl')\n",
    "print(\"Model and scaler saved successfully.\")"
   ]
  }
 ],
 "metadata": {
  "kernelspec": {
   "display_name": "Python 3",
   "language": "python",
   "name": "python3"
  },
  "language_info": {
   "codemirror_mode": {
    "name": "ipython",
    "version": 3
   },
   "file_extension": ".py",
   "mimetype": "text/x-python",
   "name": "python",
   "nbconvert_exporter": "python",
   "pygments_lexer": "ipython3",
   "version": "3.11.9"
  }
 },
 "nbformat": 4,
 "nbformat_minor": 5
}
